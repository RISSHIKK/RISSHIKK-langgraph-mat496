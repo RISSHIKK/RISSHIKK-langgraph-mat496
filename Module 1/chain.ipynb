{
  "cells": [
    {
      "cell_type": "markdown",
      "id": "ee55d3da-c53a-4c76-b46f-8e0d602e072e",
      "metadata": {
        "id": "ee55d3da-c53a-4c76-b46f-8e0d602e072e"
      },
      "source": [
        "# Chain\n",
        "\n",
        "## Review\n",
        "\n",
        "We built a simple graph with nodes, normal edges, and conditional edges.\n",
        "\n",
        "## Goals\n",
        "\n",
        "Now, let's build up to a simple chain that combines 4 [concepts](https://python.langchain.com/v0.2/docs/concepts/):\n",
        "\n",
        "* Using [chat messages](https://python.langchain.com/v0.2/docs/concepts/#messages) as our graph state\n",
        "* Using [chat models](https://python.langchain.com/v0.2/docs/concepts/#chat-models) in graph nodes\n",
        "* [Binding tools](https://python.langchain.com/v0.2/docs/concepts/#tools) to our chat model\n",
        "* [Executing tool calls](https://python.langchain.com/v0.2/docs/concepts/#functiontool-calling) in graph nodes\n",
        "\n",
        "![Screenshot 2024-08-21 at 9.24.03 AM.png](https://cdn.prod.website-files.com/65b8cd72835ceeacd4449a53/66dbab08dd607b08df5e1101_chain1.png)"
      ]
    },
    {
      "cell_type": "code",
      "execution_count": 4,
      "id": "a55e2e80-a718-4aaf-99b9-371157b34a4b",
      "metadata": {
        "id": "a55e2e80-a718-4aaf-99b9-371157b34a4b"
      },
      "outputs": [],
      "source": [
        "%%capture --no-stderr\n",
        "%pip install --quiet -U langchain_openai langchain_core langgraph langchain_groq"
      ]
    },
    {
      "cell_type": "markdown",
      "id": "ae5ac2d0-c7b0-4a20-86e5-4b6ed15ec20e",
      "metadata": {
        "id": "ae5ac2d0-c7b0-4a20-86e5-4b6ed15ec20e"
      },
      "source": [
        "## Messages\n",
        "\n",
        "Chat models can use [`messages`](https://python.langchain.com/v0.2/docs/concepts/#messages), which capture different roles within a conversation.\n",
        "\n",
        "LangChain supports various message types, including `HumanMessage`, `AIMessage`, `SystemMessage`, and `ToolMessage`.\n",
        "\n",
        "These represent a message from the user, from chat model, for the chat model to instruct behavior, and from a tool call.\n",
        "\n",
        "Let's create a list of messages.\n",
        "\n",
        "Each message can be supplied with a few things:\n",
        "\n",
        "* `content` - content of the message\n",
        "* `name` - optionally, a message author\n",
        "* `response_metadata` - optionally, a dict of metadata (e.g., often populated by model provider for `AIMessages`)"
      ]
    },
    {
      "cell_type": "code",
      "execution_count": 2,
      "id": "866b5321-a238-4a9e-af9e-f11a131b5f11",
      "metadata": {
        "colab": {
          "base_uri": "https://localhost:8080/"
        },
        "id": "866b5321-a238-4a9e-af9e-f11a131b5f11",
        "outputId": "d0c3ea69-a977-4506-bc98-88b1898c999b"
      },
      "outputs": [
        {
          "name": "stdout",
          "output_type": "stream",
          "text": [
            "==================================\u001b[1m Ai Message \u001b[0m==================================\n",
            "Name: Model\n",
            "\n",
            "So you said you were researching ocean mammals?\n",
            "================================\u001b[1m Human Message \u001b[0m=================================\n",
            "Name: Lance\n",
            "\n",
            "Yes, that's right.\n",
            "==================================\u001b[1m Ai Message \u001b[0m==================================\n",
            "Name: Model\n",
            "\n",
            "Great, what would you like to learn about.\n",
            "================================\u001b[1m Human Message \u001b[0m=================================\n",
            "Name: Lance\n",
            "\n",
            "I want to learn about the best place to see Orcas in the US.\n"
          ]
        }
      ],
      "source": [
        "from pprint import pprint\n",
        "from langchain_core.messages import AIMessage, HumanMessage\n",
        "\n",
        "messages = [AIMessage(content=f\"So you said you were researching ocean mammals?\", name=\"Model\")]\n",
        "messages.append(HumanMessage(content=f\"Yes, that's right.\",name=\"Lance\"))\n",
        "messages.append(AIMessage(content=f\"Great, what would you like to learn about.\", name=\"Model\"))\n",
        "messages.append(HumanMessage(content=f\"I want to learn about the best place to see Orcas in the US.\", name=\"Lance\"))\n",
        "\n",
        "for m in messages:\n",
        "    m.pretty_print()"
      ]
    },
    {
      "cell_type": "markdown",
      "id": "0ca48df0-b639-4ff1-a777-ffe2185d991e",
      "metadata": {
        "id": "0ca48df0-b639-4ff1-a777-ffe2185d991e"
      },
      "source": [
        "## Chat Models\n",
        "\n",
        "[Chat models](https://python.langchain.com/v0.2/docs/concepts/#chat-models) can use a sequence of message as input and support message types, as discussed above.\n",
        "\n",
        "There are [many](https://python.langchain.com/v0.2/docs/concepts/#chat-models) to choose from! Let's work with OpenAI.\n",
        "\n",
        "Let's check that your `OPENAI_API_KEY` is set and, if not, you will be asked to enter it."
      ]
    },
    {
      "cell_type": "code",
      "execution_count": 5,
      "id": "2652d5ec-7602-4220-bc6e-b90783ab287b",
      "metadata": {
        "colab": {
          "base_uri": "https://localhost:8080/"
        },
        "id": "2652d5ec-7602-4220-bc6e-b90783ab287b",
        "outputId": "5345672e-b2d0-43a6-938a-ccd2d147f872"
      },
      "outputs": [
        {
          "name": "stdout",
          "output_type": "stream",
          "text": [
            "GROQ_API_KEY: ··········\n"
          ]
        }
      ],
      "source": [
        "import os, getpass\n",
        "\n",
        "def _set_env(var: str):\n",
        "    if not os.environ.get(var):\n",
        "        os.environ[var] = getpass.getpass(f\"{var}: \")\n",
        "\n",
        "_set_env(\"GROQ_API_KEY\")"
      ]
    },
    {
      "cell_type": "markdown",
      "id": "ceae53d4-14f5-4bf3-a953-cc465240f5b5",
      "metadata": {
        "id": "ceae53d4-14f5-4bf3-a953-cc465240f5b5"
      },
      "source": [
        "We can load a chat model and invoke it with out list of messages.\n",
        "\n",
        "We can see that the result is an `AIMessage` with specific `response_metadata`."
      ]
    },
    {
      "cell_type": "code",
      "execution_count": 6,
      "id": "95b99ad4-5753-49d3-a916-a9e949722c01",
      "metadata": {
        "colab": {
          "base_uri": "https://localhost:8080/",
          "height": 186
        },
        "id": "95b99ad4-5753-49d3-a916-a9e949722c01",
        "outputId": "ba13ce9f-72da-4c9e-e474-4dd64fb0d70b"
      },
      "outputs": [
        {
          "data": {
            "text/html": [
              "<div style=\"max-width:800px; border: 1px solid var(--colab-border-color);\"><style>\n",
              "      pre.function-repr-contents {\n",
              "        overflow-x: auto;\n",
              "        padding: 8px 12px;\n",
              "        max-height: 500px;\n",
              "      }\n",
              "\n",
              "      pre.function-repr-contents.function-repr-contents-collapsed {\n",
              "        cursor: pointer;\n",
              "        max-height: 100px;\n",
              "      }\n",
              "    </style>\n",
              "    <pre style=\"white-space: initial; background:\n",
              "         var(--colab-secondary-surface-color); padding: 8px 12px;\n",
              "         border-bottom: 1px solid var(--colab-border-color);\"><b>langchain_core.messages.ai.AIMessage</b><br/>def __init__(content: Union[str, list[Union[str, dict]]], **kwargs: Any) -&gt; None</pre><pre class=\"function-repr-contents function-repr-contents-collapsed\" style=\"\"><a class=\"filepath\" style=\"display:none\" href=\"#\">/usr/local/lib/python3.12/dist-packages/langchain_core/messages/ai.py</a>Message from an AI.\n",
              "\n",
              "AIMessage is returned from a chat model as a response to a prompt.\n",
              "\n",
              "This message represents the output of the model and consists of both\n",
              "the raw output as returned by the model together standardized fields\n",
              "(e.g., tool calls, usage metadata) added by the LangChain framework.</pre>\n",
              "      <script>\n",
              "      if (google.colab.kernel.accessAllowed && google.colab.files && google.colab.files.view) {\n",
              "        for (const element of document.querySelectorAll('.filepath')) {\n",
              "          element.style.display = 'block'\n",
              "          element.onclick = (event) => {\n",
              "            event.preventDefault();\n",
              "            event.stopPropagation();\n",
              "            google.colab.files.view(element.textContent, 154);\n",
              "          };\n",
              "        }\n",
              "      }\n",
              "      for (const element of document.querySelectorAll('.function-repr-contents')) {\n",
              "        element.onclick = (event) => {\n",
              "          event.preventDefault();\n",
              "          event.stopPropagation();\n",
              "          element.classList.toggle('function-repr-contents-collapsed');\n",
              "        };\n",
              "      }\n",
              "      </script>\n",
              "      </div>"
            ],
            "text/plain": [
              "langchain_core.messages.ai.AIMessage"
            ]
          },
          "execution_count": 6,
          "metadata": {},
          "output_type": "execute_result"
        }
      ],
      "source": [
        "from langchain_groq import ChatGroq\n",
        "llm = ChatGroq(model=\"openai/gpt-oss-120b\")\n",
        "result = llm.invoke(messages)\n",
        "type(result)"
      ]
    },
    {
      "cell_type": "code",
      "execution_count": 7,
      "id": "88d60338-c892-4d04-a83f-878de4a76a6a",
      "metadata": {
        "colab": {
          "base_uri": "https://localhost:8080/"
        },
        "id": "88d60338-c892-4d04-a83f-878de4a76a6a",
        "outputId": "5a6c144e-1959-4417-f267-22ede8b51d83"
      },
      "outputs": [
        {
          "data": {
            "text/plain": [
              "AIMessage(content='### Best U.S. Spots to See Orcas (Killer Whales)\\n\\n| State | Top Locations | Why It’s Great | Best Time of Year | Typical Tour Options |\\n|-------|---------------|----------------|-------------------|----------------------|\\n| **Washington** | **San Juan Islands** (especially Friday Harbor & Lime Kiln) <br> **Northwest Straits (Puget Sound)** <br> **Whidbey Island** (near Deception Pass) | • Highest concentration of resident “Southern Resident” pods (J‑, K‑, and L‑pods). <br>• Calm, sheltered waters make sightings frequent. <br>• Well‑developed eco‑tour industry with knowledgeable guides. | **April\\u202f–\\u202fOctober** (peak: May‑September). <br>Winter months can be foggy and seas rough, reducing visibility. | • Day‑long or half‑day boat tours (30‑min to 3‑hr). <br>• Kayak excursions (advanced paddlers). <br>• Whale‑watching ferries (e.g., San Juan Safaris, Northwest Adventures). |\\n| **Alaska** | **Juneau** (Auke Bay) <br> **Glacier Bay National Park** <br> **Sitka** (Baranof Island) <br> **Haines / Chilkat River** | • Both resident and transient (fish‑eating) pods. <br>• Spectacular backdrop of glaciers, fjords, and mountains. <br>• Less crowded than the Pacific Northwest during the summer. | **May\\u202f–\\u202fSeptember** (peak: June‑August). <br>Early summer sees more resident pods; late summer brings more transients following salmon runs. | • Large‑deck whale‑watch vessels (e.g., Majestic Whale Watch, Alaska Whale Adventures). <br>• Small‑group RIB (rigid‑inflatable boat) tours for closer approaches. |\\n| **Oregon** | **Coos Bay & Cape Arago** <br> **Tillamook Bay** (near Astoria) | • Transient orcas that follow salmon migrations. <br>• Fewer tours, so you can often charter a private boat for a more personalized experience. | **July\\u202f–\\u202fSeptember** (when salmon run peaks). | • Small charter boats and kayak tours (e.g., Orca Quest). |\\n| **California** | **Monterey Bay** (rare but possible) | • Mostly transient orcas that follow large schools of anchovies and tuna. <br>• Sightings are infrequent, but the area offers excellent overall marine wildlife viewing. | **May\\u202f–\\u202fOctober** (peak in late summer). | • Whale‑watch cruises that include orca spotting as a “bonus” (e.g., Monterey Bay Whale Watching). |\\n\\n---\\n\\n## Quick‑Start Guide for a First‑Time Orca‑Watching Trip\\n\\n1. **Pick a Destination Based on What You Want to See**  \\n   - **Resident pods (family groups, predictable locations)** → San Juan Islands, WA.  \\n   - **Transients (larger, often hunting)** → Alaska’s fjords or Oregon’s coast.  \\n\\n2. **Book a Reputable Tour Operator**  \\n   - Look for **licensed vessels**, **small group sizes (≤\\u202f12 people)**, and **experienced naturalist guides**.  \\n   - Check reviews on TripAdvisor, Google, or dedicated whale‑watching forums.  \\n\\n3. **Timing is Everything**  \\n   - **Morning departures** often have calmer seas and better light for photography.  \\n   - **Mid‑summer** (July‑August) gives the longest daylight hours and the highest probability of sightings.  \\n\\n4. **What to Pack**  \\n   - **Layered clothing** (water‑proof outer layer, warm inner layers).  \\n   - **Binoculars** (8×–10×) for spotting distant pods.  \\n   - **Camera with a telephoto lens** (≥\\u202f200\\u202fmm) if you want crisp photos.  \\n   - **Sunscreen & hat** (even on cloudy days the sun reflects off the water).  \\n\\n5. **Etiquette & Safety**  \\n   - Keep a **minimum distance of 100\\u202fft (30\\u202fm)** from any whale (U.S. regulations).  \\n   - No feeding, chasing, or sudden movements.  \\n   - Follow the guide’s instructions—boats often need to “slow‑down” or “stop” to let the whales pass.  \\n\\n6. **What to Expect on the Water**  \\n   - **Resident pods** are often seen in groups of 2‑10 individuals, sometimes with calves.  \\n   - **Transient pods** can be larger (up to 20+) and may be observed hunting fish or even sea‑lion pups.  \\n   - **Behavioral signs**: breaching, tail‑slapping, spy‑hopping (poking head out of water).  \\n\\n---\\n\\n## Sample 3‑Day Itinerary – San Juan Islands (Washington)\\n\\n| Day | Morning | Afternoon | Evening |\\n|-----|----------|-----------|----------|\\n| **1** | Fly into **Seattle** → drive to **Anacortes** (≈\\u202f1.5\\u202fhr) | Board a **San Juan Islands ferry** (Anacortes → Friday Harbor). Check into a B&B or boutique hotel. | Walk around Friday Harbor, dinner at a local seafood spot. |\\n| **2** | **Whale‑watch tour** (7\\u202fam–11\\u202fam) – 2‑hour boat, targeting J‑pod. | Lunch in Friday Harbor, optional **kayak tour** (if you’re comfortable) for a closer look. | Sunset walk at **Lime Kiln**; optional **night sky stargazing** (clear summer nights are spectacular). |\\n| **3** | **Early‑morning boat** to **Deception Pass** for a second chance at orcas (often different pods). | Return to Anacortes, drive back to Seattle. | Fly home or extend your stay in Seattle. |\\n\\n*Tip:* If you miss a sighting on day\\u202f2, most operators offer a **“second‑chance” guarantee** (a discounted re‑booking within the same season).\\n\\n---\\n\\n## Frequently Asked Questions\\n\\n| Question | Answer |\\n|----------|--------|\\n| **Do I need a special permit to watch orcas?** | No. You only need a **commercial whale‑watch ticket** from a licensed operator. Private vessels must have a **U.S. Coast Guard** permit and follow the same distance rules. |\\n| **Are orcas safe to be around?** | Yes—when observed from a proper distance they pose no danger. Orcas are wild animals; the key is **respectful distance** and **no feeding**. |\\n| **What’s the difference between “resident” and “transient” orcas?** | **Residents** stay in the same region year‑round, feeding mainly on salmon. **Transients** (also called “Bigg’s”) travel farther and eat marine mammals and fish. Their behavior and group size can differ. |\\n| **Can I see orcas from land?** | Occasionally, especially from **San Juan Island’s Lime Kiln** or **Juneau’s Auke Bay** during peak migration, but boat tours dramatically increase your odds. |\\n| **What if the weather is bad?** | Most operators have a **cancellation policy** (full refund or credit). If seas are too rough, sightings drop dramatically, so it’s safer to reschedule. |\\n\\n---\\n\\n## Final Recommendations\\n\\n- **First‑time visitor:** **San Juan Islands, WA** – highest sighting probability, excellent infrastructure, and a chance to see the iconic resident pods up close.  \\n- **If you love dramatic scenery:** **Glacier Bay, Alaska** – combine orca watching with glacier kayaking or a cruise.  \\n- **If you want a quieter, more intimate experience:** **Coos Bay, Oregon** – fewer tourists, private charters, and beautiful coastal cliffs.  \\n\\nWhichever spot you choose, plan ahead, respect the wildlife, and enjoy one of the most unforgettable marine spectacles on Earth! 🌊🐋', additional_kwargs={'reasoning_content': 'The user wants info about best place to see Orcas in the US. Provide answer. Should be concise, helpful. Possibly mention Washington State (San Juan Islands, Puget Sound, etc.), Alaska (Juneau, Glacier Bay, etc.), Oregon (Coos Bay). Also mention best times, tours, regulations. Provide tips.'}, response_metadata={'token_usage': {'completion_tokens': 1795, 'prompt_tokens': 127, 'total_tokens': 1922, 'completion_time': 3.803497477, 'prompt_time': 0.029376183, 'queue_time': 1.001152941, 'total_time': 3.8328736599999997}, 'model_name': 'openai/gpt-oss-120b', 'system_fingerprint': 'fp_91af62a853', 'service_tier': 'on_demand', 'finish_reason': 'stop', 'logprobs': None}, id='run--e33a2275-d49f-40ab-9efe-b7fd20a02789-0', usage_metadata={'input_tokens': 127, 'output_tokens': 1795, 'total_tokens': 1922})"
            ]
          },
          "execution_count": 7,
          "metadata": {},
          "output_type": "execute_result"
        }
      ],
      "source": [
        "result"
      ]
    },
    {
      "cell_type": "code",
      "execution_count": 8,
      "id": "c3a29654-6b8e-4eda-9cec-22fabb9b8620",
      "metadata": {
        "colab": {
          "base_uri": "https://localhost:8080/"
        },
        "id": "c3a29654-6b8e-4eda-9cec-22fabb9b8620",
        "outputId": "db303511-2482-46e4-9b37-cc3f9312d95b"
      },
      "outputs": [
        {
          "data": {
            "text/plain": [
              "{'token_usage': {'completion_tokens': 1795,\n",
              "  'prompt_tokens': 127,\n",
              "  'total_tokens': 1922,\n",
              "  'completion_time': 3.803497477,\n",
              "  'prompt_time': 0.029376183,\n",
              "  'queue_time': 1.001152941,\n",
              "  'total_time': 3.8328736599999997},\n",
              " 'model_name': 'openai/gpt-oss-120b',\n",
              " 'system_fingerprint': 'fp_91af62a853',\n",
              " 'service_tier': 'on_demand',\n",
              " 'finish_reason': 'stop',\n",
              " 'logprobs': None}"
            ]
          },
          "execution_count": 8,
          "metadata": {},
          "output_type": "execute_result"
        }
      ],
      "source": [
        "result.response_metadata"
      ]
    },
    {
      "cell_type": "markdown",
      "id": "4718bd5c-5314-4405-a164-f1fe912ae306",
      "metadata": {
        "id": "4718bd5c-5314-4405-a164-f1fe912ae306"
      },
      "source": [
        "## Tools\n",
        "\n",
        "Tools are useful whenever you want a model to interact with external systems.\n",
        "\n",
        "External systems (e.g., APIs) often require a particular input schema or payload, rather than natural language.\n",
        "\n",
        "When we bind an API, for example, as a tool we given the model awareness of the required input schema.\n",
        "\n",
        "The model will choose to call a tool based upon the natural language input from the user.\n",
        "\n",
        "And, it will return an output that adheres to the tool's schema.\n",
        "\n",
        "[Many LLM providers support tool calling](https://python.langchain.com/v0.1/docs/integrations/chat/) and [tool calling interface](https://blog.langchain.dev/improving-core-tool-interfaces-and-docs-in-langchain/) in LangChain is simple.\n",
        "\n",
        "You can simply pass any Python `function` into `ChatModel.bind_tools(function)`.\n",
        "\n",
        "![Screenshot 2024-08-19 at 7.46.28 PM.png](https://cdn.prod.website-files.com/65b8cd72835ceeacd4449a53/66dbab08dc1c17a7a57f9960_chain2.png)"
      ]
    },
    {
      "cell_type": "markdown",
      "id": "17a942b1",
      "metadata": {
        "id": "17a942b1"
      },
      "source": [
        "Let's showcase a simple example of tool calling!\n",
        "\n",
        "The `multiply` function is our tool."
      ]
    },
    {
      "cell_type": "code",
      "execution_count": 9,
      "id": "928faf56-1a1a-4c5f-b97d-bd64d8e166d1",
      "metadata": {
        "id": "928faf56-1a1a-4c5f-b97d-bd64d8e166d1"
      },
      "outputs": [],
      "source": [
        "def multiply(a: int, b: int) -> int:\n",
        "    \"\"\"Multiply a and b.\n",
        "\n",
        "    Args:\n",
        "        a: first int\n",
        "        b: second int\n",
        "    \"\"\"\n",
        "    return a * b\n",
        "\n",
        "llm_with_tools = llm.bind_tools([multiply])"
      ]
    },
    {
      "cell_type": "markdown",
      "id": "8a3f9dba",
      "metadata": {
        "id": "8a3f9dba"
      },
      "source": [
        "If we pass an input - e.g., `\"What is 2 multiplied by 3\"` - we see a tool call returned.\n",
        "\n",
        "The tool call has specific arguments that match the input schema of our function along with the name of the function to call.\n",
        "\n",
        "```\n",
        "{'arguments': '{\"a\":2,\"b\":3}', 'name': 'multiply'}\n",
        "```"
      ]
    },
    {
      "cell_type": "code",
      "execution_count": 10,
      "id": "9edbe13e-cc72-4685-ac97-2ebb4ceb2544",
      "metadata": {
        "id": "9edbe13e-cc72-4685-ac97-2ebb4ceb2544"
      },
      "outputs": [],
      "source": [
        "tool_call = llm_with_tools.invoke([HumanMessage(content=f\"What is 2 multiplied by 3\", name=\"Lance\")])"
      ]
    },
    {
      "cell_type": "code",
      "execution_count": 11,
      "id": "a78178cb-fa43-45b5-be5e-5a22bda5a5e7",
      "metadata": {
        "colab": {
          "base_uri": "https://localhost:8080/"
        },
        "id": "a78178cb-fa43-45b5-be5e-5a22bda5a5e7",
        "outputId": "17580202-8c94-4b0c-96e6-fb592d118ed0"
      },
      "outputs": [
        {
          "data": {
            "text/plain": [
              "[]"
            ]
          },
          "execution_count": 11,
          "metadata": {},
          "output_type": "execute_result"
        }
      ],
      "source": [
        "tool_call.tool_calls"
      ]
    },
    {
      "cell_type": "markdown",
      "id": "21c10f9a-2372-486b-9305-55b7c41ecd6e",
      "metadata": {
        "id": "21c10f9a-2372-486b-9305-55b7c41ecd6e"
      },
      "source": [
        "## Using messages as state\n",
        "\n",
        "With these foundations in place, we can now use [`messages`](https://python.langchain.com/v0.2/docs/concepts/#messages) in our graph state.\n",
        "\n",
        "Let's define our state, `MessagesState`, as a `TypedDict` with a single key: `messages`.\n",
        "\n",
        "`messages` is simply a list of messages, as we defined above (e.g., `HumanMessage`, etc)."
      ]
    },
    {
      "cell_type": "code",
      "execution_count": 12,
      "id": "3699dd5c-398c-43c7-b496-fd87e55e11ca",
      "metadata": {
        "id": "3699dd5c-398c-43c7-b496-fd87e55e11ca"
      },
      "outputs": [],
      "source": [
        "from typing_extensions import TypedDict\n",
        "from langchain_core.messages import AnyMessage\n",
        "\n",
        "class MessagesState(TypedDict):\n",
        "    messages: list[AnyMessage]"
      ]
    },
    {
      "cell_type": "markdown",
      "id": "211cba3e-ebba-4b91-a539-1cbc28b4a40e",
      "metadata": {
        "id": "211cba3e-ebba-4b91-a539-1cbc28b4a40e"
      },
      "source": [
        "## Reducers\n",
        "\n",
        "Now, we have a minor problem!\n",
        "\n",
        "As we discussed, each node will return a new value for our state key `messages`.\n",
        "\n",
        "But, this new value [will override](https://langchain-ai.github.io/langgraph/concepts/low_level/#reducers) the prior `messages` value.\n",
        "\n",
        "As our graph runs, we want to **append** messages to our `messages` state key.\n",
        "\n",
        "We can use [reducer functions](https://langchain-ai.github.io/langgraph/concepts/low_level/#reducers) to address this.\n",
        "\n",
        "Reducers allow us to specify how state updates are performed.\n",
        "\n",
        "If no reducer function is specified, then it is assumed that updates to the key should *override it* as we saw before.\n",
        "\n",
        "But, to append messages, we can use the pre-built `add_messages` reducer.\n",
        "\n",
        "This ensures that any messages are appended to the existing list of messages.\n",
        "\n",
        "We simply need to annotate our `messages` key with the `add_messages` reducer function as metadata."
      ]
    },
    {
      "cell_type": "code",
      "execution_count": 13,
      "id": "6b33eb72-3197-4870-b9a3-0da8056c40c5",
      "metadata": {
        "id": "6b33eb72-3197-4870-b9a3-0da8056c40c5"
      },
      "outputs": [],
      "source": [
        "from typing import Annotated\n",
        "from langgraph.graph.message import add_messages\n",
        "\n",
        "class MessagesState(TypedDict):\n",
        "    messages: Annotated[list[AnyMessage], add_messages]"
      ]
    },
    {
      "cell_type": "markdown",
      "id": "3663e574-ba15-46be-a37c-48c8052d693b",
      "metadata": {
        "id": "3663e574-ba15-46be-a37c-48c8052d693b"
      },
      "source": [
        "Since having a list of messages in graph state is so common, LangGraph has a pre-built [`MessagesState`](https://langchain-ai.github.io/langgraph/concepts/low_level/#messagesstate)!\n",
        "\n",
        "`MessagesState` is defined:\n",
        "\n",
        "* With a pre-build single `messages` key\n",
        "* This is a list of `AnyMessage` objects\n",
        "* It uses the `add_messages` reducer\n",
        "\n",
        "We'll usually use `MessagesState` because it is less verbose than defining a custom `TypedDict`, as shown above."
      ]
    },
    {
      "cell_type": "code",
      "execution_count": 14,
      "id": "9ab516ee-eab1-4856-8210-99f1fe499672",
      "metadata": {
        "id": "9ab516ee-eab1-4856-8210-99f1fe499672"
      },
      "outputs": [],
      "source": [
        "from langgraph.graph import MessagesState\n",
        "\n",
        "class MessagesState(MessagesState):\n",
        "    # Add any keys needed beyond messages, which is pre-built\n",
        "    pass"
      ]
    },
    {
      "cell_type": "markdown",
      "id": "36b0fff7-60a2-4582-8f12-3a3ab6633d6c",
      "metadata": {
        "id": "36b0fff7-60a2-4582-8f12-3a3ab6633d6c"
      },
      "source": [
        "To go a bit deeper, we can see how the `add_messages` reducer works in isolation."
      ]
    },
    {
      "cell_type": "code",
      "execution_count": 15,
      "id": "23ffea76-16a5-4053-a1bc-91e0101d91dc",
      "metadata": {
        "colab": {
          "base_uri": "https://localhost:8080/"
        },
        "id": "23ffea76-16a5-4053-a1bc-91e0101d91dc",
        "outputId": "cf695ef2-4059-413c-854d-ed196acf2c21"
      },
      "outputs": [
        {
          "data": {
            "text/plain": [
              "[AIMessage(content='Hello! How can I assist you?', additional_kwargs={}, response_metadata={}, name='Model', id='dd880a0e-e5a3-468e-9c0a-c7cd0183ef9e'),\n",
              " HumanMessage(content=\"I'm looking for information on marine biology.\", additional_kwargs={}, response_metadata={}, name='Lance', id='db20e36f-0de9-407e-b506-41439c86be1f'),\n",
              " AIMessage(content='Sure, I can help with that. What specifically are you interested in?', additional_kwargs={}, response_metadata={}, name='Model', id='f7864803-ae8f-4875-b27a-873e47bb019b')]"
            ]
          },
          "execution_count": 15,
          "metadata": {},
          "output_type": "execute_result"
        }
      ],
      "source": [
        "# Initial state\n",
        "initial_messages = [AIMessage(content=\"Hello! How can I assist you?\", name=\"Model\"),\n",
        "                    HumanMessage(content=\"I'm looking for information on marine biology.\", name=\"Lance\")\n",
        "                   ]\n",
        "\n",
        "# New message to add\n",
        "new_message = AIMessage(content=\"Sure, I can help with that. What specifically are you interested in?\", name=\"Model\")\n",
        "\n",
        "# Test\n",
        "add_messages(initial_messages , new_message)"
      ]
    },
    {
      "cell_type": "markdown",
      "id": "485adccc-f262-49dd-af4f-a30e9b6a48e2",
      "metadata": {
        "id": "485adccc-f262-49dd-af4f-a30e9b6a48e2"
      },
      "source": [
        "## Our graph\n",
        "\n",
        "Now, lets use `MessagesState` with a graph."
      ]
    },
    {
      "cell_type": "code",
      "execution_count": 16,
      "id": "b5306639-7e6a-44be-8471-8d2631701cfb",
      "metadata": {
        "colab": {
          "base_uri": "https://localhost:8080/",
          "height": 251
        },
        "id": "b5306639-7e6a-44be-8471-8d2631701cfb",
        "outputId": "69297755-a531-4ecc-f1fc-78fef09beb1f"
      },
      "outputs": [
        {
          "data": {
            "image/png": "[encoded data removed]",
            "text/plain": [
              "<IPython.core.display.Image object>"
            ]
          },
          "metadata": {},
          "output_type": "display_data"
        }
      ],
      "source": [
        "from IPython.display import Image, display\n",
        "from langgraph.graph import StateGraph, START, END\n",
        "\n",
        "# Node\n",
        "def tool_calling_llm(state: MessagesState):\n",
        "    return {\"messages\": [llm_with_tools.invoke(state[\"messages\"])]}\n",
        "\n",
        "# Build graph\n",
        "builder = StateGraph(MessagesState)\n",
        "builder.add_node(\"tool_calling_llm\", tool_calling_llm)\n",
        "builder.add_edge(START, \"tool_calling_llm\")\n",
        "builder.add_edge(\"tool_calling_llm\", END)\n",
        "graph = builder.compile()\n",
        "\n",
        "# View\n",
        "display(Image(graph.get_graph().draw_mermaid_png()))"
      ]
    },
    {
      "cell_type": "markdown",
      "id": "e8909771-7786-47d6-a53d-6bbc3b365737",
      "metadata": {
        "id": "e8909771-7786-47d6-a53d-6bbc3b365737"
      },
      "source": [
        "If we pass in `Hello!`, the LLM responds without any tool calls."
      ]
    },
    {
      "cell_type": "code",
      "execution_count": 19,
      "id": "983e2487-c0a5-40a2-afbc-aa53ff49fefc",
      "metadata": {
        "colab": {
          "base_uri": "https://localhost:8080/"
        },
        "id": "983e2487-c0a5-40a2-afbc-aa53ff49fefc",
        "outputId": "e220c39e-66a6-4014-e682-6789c622742b"
      },
      "outputs": [
        {
          "name": "stdout",
          "output_type": "stream",
          "text": [
            "================================\u001b[1m Human Message \u001b[0m=================================\n",
            "\n",
            "Hello!\n",
            "==================================\u001b[1m Ai Message \u001b[0m==================================\n",
            "\n",
            "Hello! How can I assist you today?\n"
          ]
        }
      ],
      "source": [
        "messages = graph.invoke({\"messages\": HumanMessage(content=\"Hello!\")})\n",
        "for m in messages['messages']:\n",
        "    m.pretty_print()"
      ]
    },
    {
      "cell_type": "markdown",
      "id": "3588688b-efd9-4dbc-abf2-7903e3ef89ba",
      "metadata": {
        "id": "3588688b-efd9-4dbc-abf2-7903e3ef89ba"
      },
      "source": [
        "The LLM chooses to use a tool when it determines that the input or task requires the functionality provided by that tool."
      ]
    },
    {
      "cell_type": "code",
      "execution_count": 21,
      "id": "7fe8b042-ecc8-426f-995e-cc1bbaf7cacc",
      "metadata": {
        "colab": {
          "base_uri": "https://localhost:8080/"
        },
        "id": "7fe8b042-ecc8-426f-995e-cc1bbaf7cacc",
        "outputId": "286abf69-9680-4e88-bf27-3760f598898b"
      },
      "outputs": [
        {
          "name": "stdout",
          "output_type": "stream",
          "text": [
            "================================\u001b[1m Human Message \u001b[0m=================================\n",
            "\n",
            "Multiply 2 and 3\n",
            "==================================\u001b[1m Ai Message \u001b[0m==================================\n",
            "Tool Calls:\n",
            "  multiply (fc_8a2b210e-55a1-4b63-85e3-07a28657674d)\n",
            " Call ID: fc_8a2b210e-55a1-4b63-85e3-07a28657674d\n",
            "  Args:\n",
            "    a: 2\n",
            "    b: 3\n"
          ]
        }
      ],
      "source": [
        "messages = graph.invoke({\"messages\": HumanMessage(content=\"Multiply 2 and 3\")})\n",
        "for m in messages['messages']:\n",
        "    m.pretty_print()"
      ]
    },
    {
      "cell_type": "markdown",
      "id": "9106aff6",
      "metadata": {
        "id": "9106aff6"
      },
      "source": [
        "# MY EXAMPLE:"
      ]
    },
    {
      "cell_type": "markdown",
      "id": "3d5fc451",
      "metadata": {
        "id": "3d5fc451"
      },
      "source": [
        "Create a Python function that performs addition\n"
      ]
    },
    {
      "cell_type": "code",
      "execution_count": 22,
      "id": "f6342d77",
      "metadata": {
        "id": "f6342d77"
      },
      "outputs": [],
      "source": [
        "def add(a: int, b: int) -> int:\n",
        "    \"\"\"Add two integers.\n",
        "\n",
        "    Args:\n",
        "        a: The first integer.\n",
        "        b: The second integer.\n",
        "    \"\"\"\n",
        "    return a + b"
      ]
    },
    {
      "cell_type": "markdown",
      "id": "16083dab",
      "metadata": {
        "id": "16083dab"
      },
      "source": [
        "Update the `llm_with_tools` object to include the newly defined `add` tool in addition to the existing `multiply` tool.\n"
      ]
    },
    {
      "cell_type": "code",
      "execution_count": 23,
      "id": "4530bbd1",
      "metadata": {
        "id": "4530bbd1"
      },
      "outputs": [],
      "source": [
        "llm_with_tools = llm.bind_tools([multiply, add])"
      ]
    },
    {
      "cell_type": "markdown",
      "id": "200a8ebd",
      "metadata": {
        "id": "200a8ebd"
      },
      "source": [
        "Modify the `tool_calling_llm` function to handle the new tool call if the language model chooses to use it.\n"
      ]
    },
    {
      "cell_type": "code",
      "execution_count": null,
      "id": "pB8ZRXkV2Mes",
      "metadata": {
        "colab": {
          "base_uri": "https://localhost:8080/",
          "height": 266
        },
        "id": "pB8ZRXkV2Mes",
        "outputId": "c34af340-3847-41b5-e1c4-3bf949201391"
      },
      "outputs": [
        {
          "data": {
            "image/png": "[encoded data removed]",
            "text/plain": [
              "<IPython.core.display.Image object>"
            ]
          },
          "metadata": {},
          "output_type": "display_data"
        }
      ],
      "source": [
        "from langchain_core.messages import ToolMessage\n",
        "import json\n",
        "\n",
        "def call_tool(state: MessagesState):\n",
        "    last_message = state[\"messages\"][-1]\n",
        "    tool_messages = []\n",
        "    if isinstance(last_message, AIMessage) and last_message.tool_calls:\n",
        "        for tool_call in last_message.tool_calls:\n",
        "            tool_name = tool_call[\"name\"]\n",
        "            tool_args = tool_call[\"args\"] # Use the args directly as it's already a dict\n",
        "            if tool_name == \"multiply\":\n",
        "                tool_result = multiply(**tool_args)\n",
        "            elif tool_name == \"add\":\n",
        "                tool_result = add(**tool_args)\n",
        "            else:\n",
        "                tool_result = f\"Unknown tool: {tool_name}\"\n",
        "\n",
        "            tool_messages.append(ToolMessage(content=str(tool_result), tool_call_id=tool_call[\"id\"]))\n",
        "    return {\"messages\": tool_messages}\n",
        "\n",
        "# Update graph\n",
        "builder = StateGraph(MessagesState)\n",
        "builder.add_node(\"tool_calling_llm\", tool_calling_llm)\n",
        "builder.add_node(\"call_tool\", call_tool)\n",
        "\n",
        "builder.add_edge(START, \"tool_calling_llm\")\n",
        "\n",
        "# Conditional edge from tool_calling_llm\n",
        "def should_continue(state: MessagesState):\n",
        "    last_message = state[\"messages\"][-1]\n",
        "    if isinstance(last_message, AIMessage) and last_message.tool_calls:\n",
        "        return \"call_tool\"\n",
        "    else:\n",
        "        return END\n",
        "\n",
        "builder.add_conditional_edges(\n",
        "    \"tool_calling_llm\",\n",
        "    should_continue,\n",
        "    {\n",
        "        \"call_tool\": \"call_tool\",\n",
        "        END: END\n",
        "    }\n",
        ")\n",
        "\n",
        "builder.add_edge(\"call_tool\", \"tool_calling_llm\")\n",
        "\n",
        "graph = builder.compile()\n",
        "\n",
        "# View\n",
        "display(Image(graph.get_graph().draw_mermaid_png()))"
      ]
    },
    {
      "cell_type": "markdown",
      "id": "74851065",
      "metadata": {
        "id": "74851065"
      },
      "source": [
        "Invoke the graph with an input that triggers the new tool\n"
      ]
    },
    {
      "cell_type": "code",
      "execution_count": 31,
      "id": "HkTRIMLC2gtw",
      "metadata": {
        "id": "HkTRIMLC2gtw"
      },
      "outputs": [],
      "source": [
        "# Invoke the graph with an input that triggers the new tool\n",
        "messages = graph.invoke({\"messages\": HumanMessage(content=\"What is 5 plus 7\")})"
      ]
    },
    {
      "cell_type": "markdown",
      "id": "78e1bed3",
      "metadata": {
        "id": "78e1bed3"
      },
      "source": [
        "Display the results\n"
      ]
    },
    {
      "cell_type": "code",
      "execution_count": 32,
      "id": "27aa5787",
      "metadata": {
        "colab": {
          "base_uri": "https://localhost:8080/"
        },
        "id": "27aa5787",
        "outputId": "0cb02ad6-d41f-4e39-e205-f5076abeadb5"
      },
      "outputs": [
        {
          "name": "stdout",
          "output_type": "stream",
          "text": [
            "================================\u001b[1m Human Message \u001b[0m=================================\n",
            "\n",
            "What is 5 plus 7\n",
            "==================================\u001b[1m Ai Message \u001b[0m==================================\n",
            "\n",
            "5 + 7 = 12.\n"
          ]
        }
      ],
      "source": [
        "for m in messages['messages']:\n",
        "    m.pretty_print()"
      ]
    }
  ],
  "metadata": {
    "colab": {
      "provenance": []
    },
    "kernelspec": {
      "display_name": "lc-academy-env",
      "language": "python",
      "name": "python3"
    },
    "language_info": {
      "codemirror_mode": {
        "name": "ipython",
        "version": 3
      },
      "file_extension": ".py",
      "mimetype": "text/x-python",
      "name": "python",
      "nbconvert_exporter": "python",
      "pygments_lexer": "ipython3",
      "version": "3.11.8"
    }
  },
  "nbformat": 4,
  "nbformat_minor": 5
}
