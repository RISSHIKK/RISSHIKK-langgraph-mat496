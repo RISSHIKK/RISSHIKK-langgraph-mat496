{
  "cells": [
    {
      "cell_type": "markdown",
      "id": "36b496da",
      "metadata": {
        "id": "36b496da"
      },
      "source": [
        "[![Open in Colab](https://colab.research.google.com/assets/colab-badge.svg)](https://colab.research.google.com/github/langchain-ai/langchain-academy/blob/main/module-2/state-reducers.ipynb) [![Open in LangChain Academy](https://cdn.prod.website-files.com/65b8cd72835ceeacd4449a53/66e9eba12c7b7688aa3dbb5e_LCA-badge-green.svg)](https://academy.langchain.com/courses/take/intro-to-langgraph/lessons/58239428-lesson-2-state-reducers)"
      ]
    },
    {
      "cell_type": "markdown",
      "id": "b7ae0ff7-497d-4c31-a57a-00fe92799232",
      "metadata": {
        "id": "b7ae0ff7-497d-4c31-a57a-00fe92799232"
      },
      "source": [
        "# State Reducers\n",
        "\n",
        "## Review\n",
        "\n",
        "We covered a few different ways to define LangGraph state schema, including `TypedDict`, `Pydantic`, or `Dataclasses`.\n",
        "\n",
        "## Goals\n",
        "\n",
        "Now, we're going to dive into reducers, which specify how state updates are performed on specific keys / channels in the state schema."
      ]
    },
    {
      "cell_type": "code",
      "execution_count": 1,
      "id": "398c5e8e-641f-4be6-b1e8-7531f86bd2e9",
      "metadata": {
        "id": "398c5e8e-641f-4be6-b1e8-7531f86bd2e9"
      },
      "outputs": [],
      "source": [
        "%%capture --no-stderr\n",
        "%pip install --quiet -U langchain_core langgraph"
      ]
    },
    {
      "cell_type": "markdown",
      "id": "4d5bd534-c5be-48fe-91bc-af39ebee76b7",
      "metadata": {
        "id": "4d5bd534-c5be-48fe-91bc-af39ebee76b7"
      },
      "source": [
        "## Default overwriting state\n",
        "\n",
        "Let's use a `TypedDict` as our state schema."
      ]
    },
    {
      "cell_type": "code",
      "execution_count": 2,
      "id": "64e2438c-9353-4256-bc3c-1bb830374c0b",
      "metadata": {
        "colab": {
          "base_uri": "https://localhost:8080/",
          "height": 251
        },
        "id": "64e2438c-9353-4256-bc3c-1bb830374c0b",
        "outputId": "1d8922fe-e125-4af8-ce5f-0c65f9a26a34"
      },
      "outputs": [
        {
          "output_type": "display_data",
          "data": {
            "image/png": "[encoded data removed]",
            "text/plain": [
              "<IPython.core.display.Image object>"
            ]
          },
          "metadata": {}
        }
      ],
      "source": [
        "from typing_extensions import TypedDict\n",
        "from IPython.display import Image, display\n",
        "from langgraph.graph import StateGraph, START, END\n",
        "\n",
        "class State(TypedDict):\n",
        "    foo: int\n",
        "\n",
        "def node_1(state):\n",
        "    print(\"---Node 1---\")\n",
        "    return {\"foo\": state['foo'] + 1}\n",
        "\n",
        "# Build graph\n",
        "builder = StateGraph(State)\n",
        "builder.add_node(\"node_1\", node_1)\n",
        "\n",
        "# Logic\n",
        "builder.add_edge(START, \"node_1\")\n",
        "builder.add_edge(\"node_1\", END)\n",
        "\n",
        "# Add\n",
        "graph = builder.compile()\n",
        "\n",
        "# View\n",
        "display(Image(graph.get_graph().draw_mermaid_png()))"
      ]
    },
    {
      "cell_type": "code",
      "execution_count": 3,
      "id": "69634df1-4f02-446f-b5cf-6a83d1e15e37",
      "metadata": {
        "colab": {
          "base_uri": "https://localhost:8080/"
        },
        "id": "69634df1-4f02-446f-b5cf-6a83d1e15e37",
        "outputId": "ec44f3bd-6d56-41a8-c41c-7c9373a67782"
      },
      "outputs": [
        {
          "output_type": "stream",
          "name": "stdout",
          "text": [
            "---Node 1---\n"
          ]
        },
        {
          "output_type": "execute_result",
          "data": {
            "text/plain": [
              "{'foo': 2}"
            ]
          },
          "metadata": {},
          "execution_count": 3
        }
      ],
      "source": [
        "graph.invoke({\"foo\" : 1})"
      ]
    },
    {
      "cell_type": "markdown",
      "id": "775a099c-c41c-412f-8f05-e7436388ae79",
      "metadata": {
        "id": "775a099c-c41c-412f-8f05-e7436388ae79"
      },
      "source": [
        "Let's look at the state update, `return {\"foo\": state['foo'] + 1}`.\n",
        "\n",
        "As discussed before, by default LangGraph doesn't know the preferred way to update the state.\n",
        "\n",
        "So, it will just overwrite the value of `foo` in `node_1`:\n",
        "\n",
        "```\n",
        "return {\"foo\": state['foo'] + 1}\n",
        "```\n",
        "\n",
        "If we pass `{'foo': 1}` as input, the state returned from the graph is `{'foo': 2}`.\n",
        "\n",
        "## Branching\n",
        "\n",
        "Let's look at a case where our nodes branch."
      ]
    },
    {
      "cell_type": "code",
      "execution_count": 4,
      "id": "2b8d6ad4-2991-4325-933d-67057bc150f4",
      "metadata": {
        "colab": {
          "base_uri": "https://localhost:8080/",
          "height": 350
        },
        "id": "2b8d6ad4-2991-4325-933d-67057bc150f4",
        "outputId": "08553518-d5cb-4891-eec9-0b1462605eb4"
      },
      "outputs": [
        {
          "output_type": "display_data",
          "data": {
            "image/png": "[encoded data removed]",
            "text/plain": [
              "<IPython.core.display.Image object>"
            ]
          },
          "metadata": {}
        }
      ],
      "source": [
        "class State(TypedDict):\n",
        "    foo: int\n",
        "\n",
        "def node_1(state):\n",
        "    print(\"---Node 1---\")\n",
        "    return {\"foo\": state['foo'] + 1}\n",
        "\n",
        "def node_2(state):\n",
        "    print(\"---Node 2---\")\n",
        "    return {\"foo\": state['foo'] + 1}\n",
        "\n",
        "def node_3(state):\n",
        "    print(\"---Node 3---\")\n",
        "    return {\"foo\": state['foo'] + 1}\n",
        "\n",
        "# Build graph\n",
        "builder = StateGraph(State)\n",
        "builder.add_node(\"node_1\", node_1)\n",
        "builder.add_node(\"node_2\", node_2)\n",
        "builder.add_node(\"node_3\", node_3)\n",
        "\n",
        "# Logic\n",
        "builder.add_edge(START, \"node_1\")\n",
        "builder.add_edge(\"node_1\", \"node_2\")\n",
        "builder.add_edge(\"node_1\", \"node_3\")\n",
        "builder.add_edge(\"node_2\", END)\n",
        "builder.add_edge(\"node_3\", END)\n",
        "\n",
        "# Add\n",
        "graph = builder.compile()\n",
        "\n",
        "# View\n",
        "display(Image(graph.get_graph().draw_mermaid_png()))"
      ]
    },
    {
      "cell_type": "code",
      "execution_count": 5,
      "id": "106729b3",
      "metadata": {
        "colab": {
          "base_uri": "https://localhost:8080/"
        },
        "id": "106729b3",
        "outputId": "114f0053-08cc-4ba3-c1a8-34d5196ae027"
      },
      "outputs": [
        {
          "output_type": "stream",
          "name": "stdout",
          "text": [
            "---Node 1---\n",
            "---Node 3---\n",
            "---Node 2---\n",
            "InvalidUpdateError occurred: At key 'foo': Can receive only one value per step. Use an Annotated key to handle multiple values.\n",
            "For troubleshooting, visit: https://python.langchain.com/docs/troubleshooting/errors/INVALID_CONCURRENT_GRAPH_UPDATE\n"
          ]
        }
      ],
      "source": [
        "from langgraph.errors import InvalidUpdateError\n",
        "try:\n",
        "    graph.invoke({\"foo\" : 1})\n",
        "except InvalidUpdateError as e:\n",
        "    print(f\"InvalidUpdateError occurred: {e}\")\n"
      ]
    },
    {
      "cell_type": "markdown",
      "id": "b9717ccd-3d34-476a-8952-e6a7629ebefe",
      "metadata": {
        "id": "b9717ccd-3d34-476a-8952-e6a7629ebefe"
      },
      "source": [
        "We see a problem!\n",
        "\n",
        "Node 1 branches to nodes 2 and 3.\n",
        "\n",
        "Nodes 2 and 3 run in parallel, which means they run in the same step of the graph.\n",
        "\n",
        "They both attempt to overwrite the state *within the same step*.\n",
        "\n",
        "This is ambiguous for the graph! Which state should it keep?"
      ]
    },
    {
      "cell_type": "markdown",
      "id": "f1609cf7-dc47-4926-a154-77904b6cc550",
      "metadata": {
        "id": "f1609cf7-dc47-4926-a154-77904b6cc550"
      },
      "source": [
        "## Reducers\n",
        "\n",
        "[Reducers](https://langchain-ai.github.io/langgraph/concepts/low_level/#reducers) give us a general way to address this problem.\n",
        "\n",
        "They specify how to perform updates.\n",
        "\n",
        "We can use the `Annotated` type to specify a reducer function.\n",
        "\n",
        "For example, in this case let's append the value returned from each node rather than overwriting them.\n",
        "\n",
        "We just need a reducer that can perform this: `operator.add` is a function from Python's built-in operator module.\n",
        "\n",
        "When `operator.add` is applied to lists, it performs list concatenation."
      ]
    },
    {
      "cell_type": "code",
      "execution_count": 6,
      "id": "103d808c-55ec-44f2-a688-7b5e1572875a",
      "metadata": {
        "colab": {
          "base_uri": "https://localhost:8080/",
          "height": 251
        },
        "id": "103d808c-55ec-44f2-a688-7b5e1572875a",
        "outputId": "fff8f698-36c9-4aea-8968-72d1e44792a2"
      },
      "outputs": [
        {
          "output_type": "display_data",
          "data": {
            "image/png": "[encoded data removed]",
            "text/plain": [
              "<IPython.core.display.Image object>"
            ]
          },
          "metadata": {}
        }
      ],
      "source": [
        "from operator import add\n",
        "from typing import Annotated\n",
        "\n",
        "class State(TypedDict):\n",
        "    foo: Annotated[list[int], add]\n",
        "\n",
        "def node_1(state):\n",
        "    print(\"---Node 1---\")\n",
        "    return {\"foo\": [state['foo'][0] + 1]}\n",
        "\n",
        "# Build graph\n",
        "builder = StateGraph(State)\n",
        "builder.add_node(\"node_1\", node_1)\n",
        "\n",
        "# Logic\n",
        "builder.add_edge(START, \"node_1\")\n",
        "builder.add_edge(\"node_1\", END)\n",
        "\n",
        "# Add\n",
        "graph = builder.compile()\n",
        "\n",
        "# View\n",
        "display(Image(graph.get_graph().draw_mermaid_png()))"
      ]
    },
    {
      "cell_type": "code",
      "execution_count": 7,
      "id": "9e68cdff-f6e1-4de5-a7bf-6ca0cfee19bf",
      "metadata": {
        "colab": {
          "base_uri": "https://localhost:8080/"
        },
        "id": "9e68cdff-f6e1-4de5-a7bf-6ca0cfee19bf",
        "outputId": "65d6fe0c-2577-4908-b2a1-c853329babe2"
      },
      "outputs": [
        {
          "output_type": "stream",
          "name": "stdout",
          "text": [
            "---Node 1---\n"
          ]
        },
        {
          "output_type": "execute_result",
          "data": {
            "text/plain": [
              "{'foo': [1, 2]}"
            ]
          },
          "metadata": {},
          "execution_count": 7
        }
      ],
      "source": [
        "graph.invoke({\"foo\" : [1]})"
      ]
    },
    {
      "cell_type": "markdown",
      "id": "63fbd6e0-0207-4049-b86d-c006cbba630b",
      "metadata": {
        "id": "63fbd6e0-0207-4049-b86d-c006cbba630b"
      },
      "source": [
        "Now, our state key `foo` is a list.\n",
        "\n",
        "This `operator.add` reducer function will append updates from each node to this list."
      ]
    },
    {
      "cell_type": "code",
      "execution_count": 8,
      "id": "768fd0ed-5e24-44a4-b14d-0e299310e105",
      "metadata": {
        "colab": {
          "base_uri": "https://localhost:8080/",
          "height": 350
        },
        "id": "768fd0ed-5e24-44a4-b14d-0e299310e105",
        "outputId": "fd259e45-96fa-4b7b-e681-17edf178b426"
      },
      "outputs": [
        {
          "output_type": "display_data",
          "data": {
            "image/png": "[encoded data removed]",
            "text/plain": [
              "<IPython.core.display.Image object>"
            ]
          },
          "metadata": {}
        }
      ],
      "source": [
        "def node_1(state):\n",
        "    print(\"---Node 1---\")\n",
        "    return {\"foo\": [state['foo'][-1] + 1]}\n",
        "\n",
        "def node_2(state):\n",
        "    print(\"---Node 2---\")\n",
        "    return {\"foo\": [state['foo'][-1] + 1]}\n",
        "\n",
        "def node_3(state):\n",
        "    print(\"---Node 3---\")\n",
        "    return {\"foo\": [state['foo'][-1] + 1]}\n",
        "\n",
        "# Build graph\n",
        "builder = StateGraph(State)\n",
        "builder.add_node(\"node_1\", node_1)\n",
        "builder.add_node(\"node_2\", node_2)\n",
        "builder.add_node(\"node_3\", node_3)\n",
        "\n",
        "# Logic\n",
        "builder.add_edge(START, \"node_1\")\n",
        "builder.add_edge(\"node_1\", \"node_2\")\n",
        "builder.add_edge(\"node_1\", \"node_3\")\n",
        "builder.add_edge(\"node_2\", END)\n",
        "builder.add_edge(\"node_3\", END)\n",
        "\n",
        "# Add\n",
        "graph = builder.compile()\n",
        "\n",
        "# View\n",
        "display(Image(graph.get_graph().draw_mermaid_png()))"
      ]
    },
    {
      "cell_type": "markdown",
      "id": "5439baad-5a75-4188-b936-dbe74cdd9078",
      "metadata": {
        "id": "5439baad-5a75-4188-b936-dbe74cdd9078"
      },
      "source": [
        "We can see that updates in nodes 2 and 3 are performed concurrently because they are in the same step."
      ]
    },
    {
      "cell_type": "code",
      "execution_count": 9,
      "id": "44598f97-0a59-4ed4-9d9a-e15a98b3d8fb",
      "metadata": {
        "colab": {
          "base_uri": "https://localhost:8080/"
        },
        "id": "44598f97-0a59-4ed4-9d9a-e15a98b3d8fb",
        "outputId": "37168c46-9bc2-49f5-b17c-d352a4e3cb3d"
      },
      "outputs": [
        {
          "output_type": "stream",
          "name": "stdout",
          "text": [
            "---Node 1---\n",
            "---Node 2---\n",
            "---Node 3---\n"
          ]
        },
        {
          "output_type": "execute_result",
          "data": {
            "text/plain": [
              "{'foo': [1, 2, 3, 3]}"
            ]
          },
          "metadata": {},
          "execution_count": 9
        }
      ],
      "source": [
        "graph.invoke({\"foo\" : [1]})"
      ]
    },
    {
      "cell_type": "markdown",
      "id": "87faaa07-2955-4466-9bca-4b536e05f260",
      "metadata": {
        "id": "87faaa07-2955-4466-9bca-4b536e05f260"
      },
      "source": [
        "Now, let's see what happens if we pass `None` to `foo`.\n",
        "\n",
        "We see an error because our reducer, `operator.add`, attempts to concatenate `NoneType` pass as input to list in `node_1`."
      ]
    },
    {
      "cell_type": "code",
      "execution_count": 10,
      "id": "7f05984b-2bc7-48d1-b070-c8a001a6b59a",
      "metadata": {
        "colab": {
          "base_uri": "https://localhost:8080/"
        },
        "id": "7f05984b-2bc7-48d1-b070-c8a001a6b59a",
        "outputId": "32858876-b7f0-4b12-ea19-da295650fe7e"
      },
      "outputs": [
        {
          "output_type": "stream",
          "name": "stdout",
          "text": [
            "TypeError occurred: can only concatenate list (not \"NoneType\") to list\n"
          ]
        }
      ],
      "source": [
        "try:\n",
        "    graph.invoke({\"foo\" : None})\n",
        "except TypeError as e:\n",
        "    print(f\"TypeError occurred: {e}\")"
      ]
    },
    {
      "cell_type": "markdown",
      "id": "4f9d4930-ee8f-4ffc-b9e1-3c910b2e15f6",
      "metadata": {
        "id": "4f9d4930-ee8f-4ffc-b9e1-3c910b2e15f6"
      },
      "source": [
        "## Custom Reducers\n",
        "\n",
        "To address cases like this, [we can also define custom reducers](https://langchain-ai.github.io/langgraph/how-tos/subgraph/#custom-reducer-functions-to-manage-state).\n",
        "\n",
        "For example, lets define custom reducer logic to combine lists and handle cases where either or both of the inputs might be `None`."
      ]
    },
    {
      "cell_type": "code",
      "execution_count": 11,
      "id": "3314219d-29ff-4b78-b18e-fa9f7878a02f",
      "metadata": {
        "id": "3314219d-29ff-4b78-b18e-fa9f7878a02f"
      },
      "outputs": [],
      "source": [
        "def reduce_list(left: list | None, right: list | None) -> list:\n",
        "    \"\"\"Safely combine two lists, handling cases where either or both inputs might be None.\n",
        "\n",
        "    Args:\n",
        "        left (list | None): The first list to combine, or None.\n",
        "        right (list | None): The second list to combine, or None.\n",
        "\n",
        "    Returns:\n",
        "        list: A new list containing all elements from both input lists.\n",
        "               If an input is None, it's treated as an empty list.\n",
        "    \"\"\"\n",
        "    if not left:\n",
        "        left = []\n",
        "    if not right:\n",
        "        right = []\n",
        "    return left + right\n",
        "\n",
        "class DefaultState(TypedDict):\n",
        "    foo: Annotated[list[int], add]\n",
        "\n",
        "class CustomReducerState(TypedDict):\n",
        "    foo: Annotated[list[int], reduce_list]"
      ]
    },
    {
      "cell_type": "markdown",
      "id": "dcdea26a-38d0-4faf-9bf6-cd52eb902635",
      "metadata": {
        "id": "dcdea26a-38d0-4faf-9bf6-cd52eb902635"
      },
      "source": [
        "In `node_1`, we append the value 2."
      ]
    },
    {
      "cell_type": "code",
      "execution_count": 12,
      "id": "f5f270db-6eff-47c9-853b-dfb8108ff28c",
      "metadata": {
        "colab": {
          "base_uri": "https://localhost:8080/",
          "height": 268
        },
        "id": "f5f270db-6eff-47c9-853b-dfb8108ff28c",
        "outputId": "5d7ff866-1351-4b97-dba8-19a0dc62ef6c"
      },
      "outputs": [
        {
          "output_type": "display_data",
          "data": {
            "image/png": "[encoded data removed]",
            "text/plain": [
              "<IPython.core.display.Image object>"
            ]
          },
          "metadata": {}
        },
        {
          "output_type": "stream",
          "name": "stdout",
          "text": [
            "TypeError occurred: can only concatenate list (not \"NoneType\") to list\n"
          ]
        }
      ],
      "source": [
        "def node_1(state):\n",
        "    print(\"---Node 1---\")\n",
        "    return {\"foo\": [2]}\n",
        "\n",
        "# Build graph\n",
        "builder = StateGraph(DefaultState)\n",
        "builder.add_node(\"node_1\", node_1)\n",
        "\n",
        "# Logic\n",
        "builder.add_edge(START, \"node_1\")\n",
        "builder.add_edge(\"node_1\", END)\n",
        "\n",
        "# Add\n",
        "graph = builder.compile()\n",
        "\n",
        "# View\n",
        "display(Image(graph.get_graph().draw_mermaid_png()))\n",
        "\n",
        "try:\n",
        "    print(graph.invoke({\"foo\" : None}))\n",
        "except TypeError as e:\n",
        "    print(f\"TypeError occurred: {e}\")"
      ]
    },
    {
      "cell_type": "markdown",
      "id": "fd21936b-62f1-4311-9ce5-2c7d08aa35bf",
      "metadata": {
        "id": "fd21936b-62f1-4311-9ce5-2c7d08aa35bf"
      },
      "source": [
        "Now, try with our custom reducer. We can see that no error is thrown."
      ]
    },
    {
      "cell_type": "code",
      "execution_count": 13,
      "id": "867784bc-796c-4b1e-a4d3-2810395cf5e2",
      "metadata": {
        "colab": {
          "base_uri": "https://localhost:8080/",
          "height": 286
        },
        "id": "867784bc-796c-4b1e-a4d3-2810395cf5e2",
        "outputId": "33308407-ea6e-4c1d-ca72-54760aad75b5"
      },
      "outputs": [
        {
          "output_type": "display_data",
          "data": {
            "image/png": "[encoded data removed]",
            "text/plain": [
              "<IPython.core.display.Image object>"
            ]
          },
          "metadata": {}
        },
        {
          "output_type": "stream",
          "name": "stdout",
          "text": [
            "---Node 1---\n",
            "{'foo': [2]}\n"
          ]
        }
      ],
      "source": [
        "# Build graph\n",
        "builder = StateGraph(CustomReducerState)\n",
        "builder.add_node(\"node_1\", node_1)\n",
        "\n",
        "# Logic\n",
        "builder.add_edge(START, \"node_1\")\n",
        "builder.add_edge(\"node_1\", END)\n",
        "\n",
        "# Add\n",
        "graph = builder.compile()\n",
        "\n",
        "# View\n",
        "display(Image(graph.get_graph().draw_mermaid_png()))\n",
        "\n",
        "try:\n",
        "    print(graph.invoke({\"foo\" : None}))\n",
        "except TypeError as e:\n",
        "    print(f\"TypeError occurred: {e}\")"
      ]
    },
    {
      "cell_type": "markdown",
      "id": "b7ebc65e-c185-4981-a6e7-20fe37d2f8fe",
      "metadata": {
        "id": "b7ebc65e-c185-4981-a6e7-20fe37d2f8fe"
      },
      "source": [
        "## Messages\n",
        "\n",
        "In module 1, we showed how to use a built-in reducer, `add_messages`, to handle messages in state.\n",
        "\n",
        "We also showed that [`MessagesState` is a useful shortcut if you want to work with messages](https://langchain-ai.github.io/langgraph/concepts/low_level/#messagesstate).\n",
        "\n",
        "* `MessagesState` has a built-in `messages` key\n",
        "* It also has a built-in `add_messages` reducer for this key\n",
        "\n",
        "These two are equivalent.\n",
        "\n",
        "We'll use the `MessagesState` class via `from langgraph.graph import MessagesState` for brevity.\n"
      ]
    },
    {
      "cell_type": "code",
      "execution_count": 14,
      "id": "901e69e5-c4cb-4d58-82fb-3b7d968758e3",
      "metadata": {
        "id": "901e69e5-c4cb-4d58-82fb-3b7d968758e3"
      },
      "outputs": [],
      "source": [
        "from typing import Annotated\n",
        "from langgraph.graph import MessagesState\n",
        "from langchain_core.messages import AnyMessage\n",
        "from langgraph.graph.message import add_messages\n",
        "\n",
        "# Define a custom TypedDict that includes a list of messages with add_messages reducer\n",
        "class CustomMessagesState(TypedDict):\n",
        "    messages: Annotated[list[AnyMessage], add_messages]\n",
        "    added_key_1: str\n",
        "    added_key_2: str\n",
        "    # etc\n",
        "\n",
        "# Use MessagesState, which includes the messages key with add_messages reducer\n",
        "class ExtendedMessagesState(MessagesState):\n",
        "    # Add any keys needed beyond messages, which is pre-built\n",
        "    added_key_1: str\n",
        "    added_key_2: str\n",
        "    # etc"
      ]
    },
    {
      "cell_type": "markdown",
      "id": "287805e4-722a-4428-b040-2892b29de870",
      "metadata": {
        "id": "287805e4-722a-4428-b040-2892b29de870"
      },
      "source": [
        "Let's talk a bit more about usage of the `add_messages` reducer."
      ]
    },
    {
      "cell_type": "code",
      "execution_count": 15,
      "id": "c8f61350-4fe0-4a2b-bb24-9305afb3c668",
      "metadata": {
        "colab": {
          "base_uri": "https://localhost:8080/"
        },
        "id": "c8f61350-4fe0-4a2b-bb24-9305afb3c668",
        "outputId": "28005390-8a1e-4ec1-97b2-711f88207f53"
      },
      "outputs": [
        {
          "output_type": "execute_result",
          "data": {
            "text/plain": [
              "[AIMessage(content='Hello! How can I assist you?', additional_kwargs={}, response_metadata={}, name='Model', id='c255cdc9-aa53-4641-907b-f062919f6320'),\n",
              " HumanMessage(content=\"I'm looking for information on marine biology.\", additional_kwargs={}, response_metadata={}, name='Lance', id='bf65b85c-74be-4b1f-b6ab-0bc0364a17ba'),\n",
              " AIMessage(content='Sure, I can help with that. What specifically are you interested in?', additional_kwargs={}, response_metadata={}, name='Model', id='91a4b3a2-1a74-4ed6-b399-1d5fcc09fd77')]"
            ]
          },
          "metadata": {},
          "execution_count": 15
        }
      ],
      "source": [
        "from langgraph.graph.message import add_messages\n",
        "from langchain_core.messages import AIMessage, HumanMessage\n",
        "\n",
        "# Initial state\n",
        "initial_messages = [AIMessage(content=\"Hello! How can I assist you?\", name=\"Model\"),\n",
        "                    HumanMessage(content=\"I'm looking for information on marine biology.\", name=\"Lance\")\n",
        "                   ]\n",
        "\n",
        "# New message to add\n",
        "new_message = AIMessage(content=\"Sure, I can help with that. What specifically are you interested in?\", name=\"Model\")\n",
        "\n",
        "# Test\n",
        "add_messages(initial_messages , new_message)"
      ]
    },
    {
      "cell_type": "markdown",
      "id": "bc492370-0502-43e6-87cc-181c60b3dbdb",
      "metadata": {
        "id": "bc492370-0502-43e6-87cc-181c60b3dbdb"
      },
      "source": [
        "So we can see that `add_messages` allows us to append messages to the `messages` key in our state.\n",
        "\n",
        "### Re-writing\n",
        "\n",
        "Let's show some useful tricks when working with the `add_messages` reducer.\n",
        "\n",
        "If we pass a message with the same ID as an existing one in our `messages` list, it will get overwritten!"
      ]
    },
    {
      "cell_type": "code",
      "execution_count": 16,
      "id": "1f6f82fd-a5a8-4e98-80f6-bb058f2acc47",
      "metadata": {
        "colab": {
          "base_uri": "https://localhost:8080/"
        },
        "id": "1f6f82fd-a5a8-4e98-80f6-bb058f2acc47",
        "outputId": "beea42c8-238f-4de7-9035-262fcf52a141"
      },
      "outputs": [
        {
          "output_type": "execute_result",
          "data": {
            "text/plain": [
              "[AIMessage(content='Hello! How can I assist you?', additional_kwargs={}, response_metadata={}, name='Model', id='1'),\n",
              " HumanMessage(content=\"I'm looking for information on whales, specifically\", additional_kwargs={}, response_metadata={}, name='Lance', id='2')]"
            ]
          },
          "metadata": {},
          "execution_count": 16
        }
      ],
      "source": [
        "# Initial state\n",
        "initial_messages = [AIMessage(content=\"Hello! How can I assist you?\", name=\"Model\", id=\"1\"),\n",
        "                    HumanMessage(content=\"I'm looking for information on marine biology.\", name=\"Lance\", id=\"2\")\n",
        "                   ]\n",
        "\n",
        "# New message to add\n",
        "new_message = HumanMessage(content=\"I'm looking for information on whales, specifically\", name=\"Lance\", id=\"2\")\n",
        "\n",
        "# Test\n",
        "add_messages(initial_messages , new_message)"
      ]
    },
    {
      "cell_type": "markdown",
      "id": "f06e7788-7054-4752-99fe-27ebb901f263",
      "metadata": {
        "id": "f06e7788-7054-4752-99fe-27ebb901f263"
      },
      "source": [
        "### Removal\n",
        "\n",
        "`add_messages` also [enables message removal](https://langchain-ai.github.io/langgraph/how-tos/memory/delete-messages/).\n",
        "\n",
        "For this, we simply use [RemoveMessage](https://api.python.langchain.com/en/latest/messages/langchain_core.messages.modifier.RemoveMessage.html) from `langchain_core`."
      ]
    },
    {
      "cell_type": "code",
      "execution_count": 17,
      "id": "67ac97e5-efe2-40bc-9fe3-fd4f50922b8b",
      "metadata": {
        "colab": {
          "base_uri": "https://localhost:8080/"
        },
        "id": "67ac97e5-efe2-40bc-9fe3-fd4f50922b8b",
        "outputId": "b329a1bb-e984-45be-b31d-c40034e8853a"
      },
      "outputs": [
        {
          "output_type": "stream",
          "name": "stdout",
          "text": [
            "[RemoveMessage(content='', additional_kwargs={}, response_metadata={}, id='1'), RemoveMessage(content='', additional_kwargs={}, response_metadata={}, id='2')]\n"
          ]
        }
      ],
      "source": [
        "from langchain_core.messages import RemoveMessage\n",
        "\n",
        "# Message list\n",
        "messages = [AIMessage(\"Hi.\", name=\"Bot\", id=\"1\")]\n",
        "messages.append(HumanMessage(\"Hi.\", name=\"Lance\", id=\"2\"))\n",
        "messages.append(AIMessage(\"So you said you were researching ocean mammals?\", name=\"Bot\", id=\"3\"))\n",
        "messages.append(HumanMessage(\"Yes, I know about whales. But what others should I learn about?\", name=\"Lance\", id=\"4\"))\n",
        "\n",
        "# Isolate messages to delete\n",
        "delete_messages = [RemoveMessage(id=m.id) for m in messages[:-2]]\n",
        "print(delete_messages)"
      ]
    },
    {
      "cell_type": "code",
      "execution_count": 18,
      "id": "2d250578-3ec0-452e-91c0-072d785d96db",
      "metadata": {
        "colab": {
          "base_uri": "https://localhost:8080/"
        },
        "id": "2d250578-3ec0-452e-91c0-072d785d96db",
        "outputId": "2053d397-5fca-40cf-b551-e4098a8c63e9"
      },
      "outputs": [
        {
          "output_type": "execute_result",
          "data": {
            "text/plain": [
              "[AIMessage(content='So you said you were researching ocean mammals?', additional_kwargs={}, response_metadata={}, name='Bot', id='3'),\n",
              " HumanMessage(content='Yes, I know about whales. But what others should I learn about?', additional_kwargs={}, response_metadata={}, name='Lance', id='4')]"
            ]
          },
          "metadata": {},
          "execution_count": 18
        }
      ],
      "source": [
        "add_messages(messages , delete_messages)"
      ]
    },
    {
      "cell_type": "markdown",
      "id": "5db095c5-6d9a-4e62-a097-0403797511f6",
      "metadata": {
        "id": "5db095c5-6d9a-4e62-a097-0403797511f6"
      },
      "source": [
        "We can see that mesage IDs 1 and 2, as noted in `delete_messages` are removed by the reducer.\n",
        "\n",
        "We'll see this put into practice a bit later."
      ]
    },
    {
      "cell_type": "markdown",
      "source": [
        "# MY EXAMPLES:"
      ],
      "metadata": {
        "id": "c0i4vt_hM0_s"
      },
      "id": "c0i4vt_hM0_s"
    },
    {
      "cell_type": "markdown",
      "metadata": {
        "id": "e85aa946"
      },
      "source": [
        "## Default overwriting state\n",
        "\n",
        "Demonstrate the default state overwriting behavior when no reducer is specified.\n"
      ],
      "id": "e85aa946"
    },
    {
      "cell_type": "code",
      "metadata": {
        "id": "cf1d7acb"
      },
      "source": [
        "from typing_extensions import TypedDict\n",
        "from langgraph.graph import StateGraph, START, END\n",
        "\n",
        "class State(TypedDict):\n",
        "    value: int\n",
        "\n",
        "# Define a simple Python function, increment_node\n",
        "def increment_node(state):\n",
        "    print(\"---Increment Node---\")\n",
        "    return {\"value\": state['value'] + 1}"
      ],
      "id": "cf1d7acb",
      "execution_count": 31,
      "outputs": []
    },
    {
      "cell_type": "code",
      "metadata": {
        "colab": {
          "base_uri": "https://localhost:8080/"
        },
        "id": "9f031e19",
        "outputId": "311c91b8-c6e2-427f-a8d2-3ca7f1ed1a05"
      },
      "source": [
        "builder = StateGraph(State)\n",
        "\n",
        "builder.add_node(\"increment\", increment_node)\n",
        "\n",
        "# Add an edge from START to increment_node and from increment_node to END\n",
        "builder.add_edge(START, \"increment\")\n",
        "builder.add_edge(\"increment\", END)\n",
        "\n",
        "graph = builder.compile()\n",
        "\n",
        "# Invoke the compiled graph with an initial state\n",
        "initial_state = {\"value\": 5}\n",
        "result = graph.invoke(initial_state)\n",
        "\n",
        "print(result)"
      ],
      "id": "9f031e19",
      "execution_count": 33,
      "outputs": [
        {
          "output_type": "stream",
          "name": "stdout",
          "text": [
            "---Increment Node---\n",
            "{'value': 6}\n"
          ]
        }
      ]
    },
    {
      "cell_type": "markdown",
      "metadata": {
        "id": "355f6c2c"
      },
      "source": [
        "## Branching and invalid update error\n",
        "\n",
        "Demonstrate how branching without a reducer can lead to an `InvalidUpdateError`.\n"
      ],
      "id": "355f6c2c"
    },
    {
      "cell_type": "code",
      "metadata": {
        "id": "ed7609cb"
      },
      "source": [
        "from typing_extensions import TypedDict\n",
        "from langgraph.graph import StateGraph, START, END\n",
        "from langgraph.errors import InvalidUpdateError\n",
        "\n",
        "class State(TypedDict):\n",
        "    value: int\n",
        "\n",
        "# Define three simple Python functions (nodes)\n",
        "def node_a(state):\n",
        "    print(\"---Node A---\")\n",
        "    return {\"value\": state['value'] + 1}\n",
        "\n",
        "def node_b(state):\n",
        "    print(\"---Node B---\")\n",
        "    return {\"value\": state['value'] + 1}\n",
        "\n",
        "def node_c(state):\n",
        "    print(\"---Node C---\")\n",
        "    return {\"value\": state['value'] + 1}"
      ],
      "id": "ed7609cb",
      "execution_count": 34,
      "outputs": []
    },
    {
      "cell_type": "code",
      "metadata": {
        "colab": {
          "base_uri": "https://localhost:8080/"
        },
        "id": "2ca3a4b2",
        "outputId": "5498e022-e4b0-4b02-bbb5-5187c2f90780"
      },
      "source": [
        "builder = StateGraph(State)\n",
        "\n",
        "# Add the three nodes to the graph\n",
        "builder.add_node(\"node_a\", node_a)\n",
        "builder.add_node(\"node_b\", node_b)\n",
        "builder.add_node(\"node_c\", node_c)\n",
        "\n",
        "builder.add_edge(START, \"node_a\")\n",
        "builder.add_edge(\"node_a\", \"node_b\")\n",
        "builder.add_edge(\"node_a\", \"node_c\")\n",
        "\n",
        "builder.add_edge(\"node_b\", END)\n",
        "builder.add_edge(\"node_c\", END)\n",
        "\n",
        "graph = builder.compile()\n",
        "\n",
        "# Invoke the compiled graph with an initial state and wrap in try-except\n",
        "try:\n",
        "    graph.invoke({\"value\": 1})\n",
        "except InvalidUpdateError as e:\n",
        "    # Catch and print the expected error\n",
        "    print(f\"Caught expected error: {e}\")"
      ],
      "id": "2ca3a4b2",
      "execution_count": 35,
      "outputs": [
        {
          "output_type": "stream",
          "name": "stdout",
          "text": [
            "---Node A---\n",
            "---Node B---\n",
            "---Node C---\n",
            "Caught expected error: At key 'value': Can receive only one value per step. Use an Annotated key to handle multiple values.\n",
            "For troubleshooting, visit: https://python.langchain.com/docs/troubleshooting/errors/INVALID_CONCURRENT_GRAPH_UPDATE\n"
          ]
        }
      ]
    },
    {
      "cell_type": "markdown",
      "metadata": {
        "id": "24d77ead"
      },
      "source": [
        "## Using `operator.add` as a reducer\n",
        "\n",
        "Implement an example using `operator.add` with an Annotated list to handle concurrent updates.\n"
      ],
      "id": "24d77ead"
    },
    {
      "cell_type": "code",
      "metadata": {
        "colab": {
          "base_uri": "https://localhost:8080/",
          "height": 303
        },
        "id": "ce9a01db",
        "outputId": "d9d3d5eb-2f56-4036-d0e9-4038101e4207"
      },
      "source": [
        "from typing import Annotated\n",
        "from operator import add\n",
        "from typing_extensions import TypedDict\n",
        "from langgraph.graph import StateGraph, START, END\n",
        "from IPython.display import Image, display\n",
        "\n",
        "class State(TypedDict):\n",
        "    foo: Annotated[list[int], add]\n",
        "\n",
        "def node_a(state):\n",
        "    print(\"---Node A---\")\n",
        "    # Return a single-element list derived from the input state's foo list\n",
        "    # Using state['foo'][0] assumes the initial input is a list with at least one element\n",
        "    return {\"foo\": [state['foo'][0] + 1]}\n",
        "\n",
        "def node_b(state):\n",
        "    print(\"---Node B---\")\n",
        "    # Return a single-element list derived from the input state's foo list\n",
        "    return {\"foo\": [state['foo'][0] + 2]}\n",
        "\n",
        "builder = StateGraph(State)\n",
        "\n",
        "builder.add_node(\"node_a\", node_a)\n",
        "builder.add_node(\"node_b\", node_b)\n",
        "builder.add_edge(START, \"node_a\")\n",
        "builder.add_edge(START, \"node_b\")\n",
        "builder.add_edge(\"node_a\", END)\n",
        "builder.add_edge(\"node_b\", END)\n",
        "\n",
        "graph = builder.compile()\n",
        "\n",
        "display(Image(graph.get_graph().draw_mermaid_png()))\n",
        "\n",
        "initial_state = {\"foo\": [1]}\n",
        "result = graph.invoke(initial_state)\n",
        "\n",
        "print(result)"
      ],
      "id": "ce9a01db",
      "execution_count": 36,
      "outputs": [
        {
          "output_type": "display_data",
          "data": {
            "image/png": "[encoded data removed]",
            "text/plain": [
              "<IPython.core.display.Image object>"
            ]
          },
          "metadata": {}
        },
        {
          "output_type": "stream",
          "name": "stdout",
          "text": [
            "---Node A---\n",
            "---Node B---\n",
            "{'foo': [1, 2, 3]}\n"
          ]
        }
      ]
    },
    {
      "cell_type": "markdown",
      "metadata": {
        "id": "50662bce"
      },
      "source": [
        "## Handling `none` with `operator.add`\n",
        "\n",
        "Demonstrate the error that occurs when `operator.add` is used with `None` values.\n"
      ],
      "id": "50662bce"
    },
    {
      "cell_type": "code",
      "metadata": {
        "colab": {
          "base_uri": "https://localhost:8080/"
        },
        "id": "5c69302d",
        "outputId": "ddb02bf1-2c56-4efb-ea61-f5b85a985dbd"
      },
      "source": [
        "from typing import Annotated\n",
        "import operator\n",
        "from typing_extensions import TypedDict\n",
        "from langgraph.graph import StateGraph, START, END\n",
        "\n",
        "class State(TypedDict):\n",
        "    foo: Annotated[list[int], operator.add]\n",
        "\n",
        "# Define a Python function increment_node that attempts to increment the last element of the foo list.\n",
        "def increment_node(state):\n",
        "    print(\"---Increment Node---\")\n",
        "    # This will raise a TypeError if state['foo'] is None\n",
        "    return {\"foo\": [state['foo'][-1] + 1]}\n",
        "\n",
        "builder = StateGraph(State)\n",
        "builder.add_node(\"increment\", increment_node)\n",
        "builder.add_edge(START, \"increment\")\n",
        "builder.add_edge(\"increment\", END)\n",
        "\n",
        "graph = builder.compile()\n",
        "\n",
        "# Invoke the compiled graph with an initial state where the value for the foo key is None.\n",
        "# Wrap the invocation in a try...except TypeError block to catch and print the expected error.\n",
        "try:\n",
        "    graph.invoke({\"foo\" : None})\n",
        "except TypeError as e:\n",
        "    print(f\"TypeError occurred: {e}\")"
      ],
      "id": "5c69302d",
      "execution_count": 37,
      "outputs": [
        {
          "output_type": "stream",
          "name": "stdout",
          "text": [
            "TypeError occurred: can only concatenate list (not \"NoneType\") to list\n"
          ]
        }
      ]
    },
    {
      "cell_type": "markdown",
      "metadata": {
        "id": "1c059e9e"
      },
      "source": [
        "## Custom reducer for handling `none`\n",
        "\n",
        "Create a custom reducer to handle `None` values gracefully and show its implementation in an example.\n"
      ],
      "id": "1c059e9e"
    },
    {
      "cell_type": "code",
      "metadata": {
        "id": "fcbb7cfc"
      },
      "source": [
        "from typing import Annotated\n",
        "from typing_extensions import TypedDict\n",
        "from langgraph.graph import StateGraph, START, END\n",
        "from IPython.display import Image, display\n",
        "\n",
        "# Define a custom reducer function named reduce_list_safe\n",
        "def reduce_list_safe(left: list | None, right: list | None) -> list:\n",
        "    \"\"\"Safely combine two lists, handling cases where either or both inputs might be None.\"\"\"\n",
        "    left = left if left is not None else []\n",
        "    right = right if right is not None else []\n",
        "    return left + right\n",
        "\n",
        "class SafeState(TypedDict):\n",
        "    foo: Annotated[list[int], reduce_list_safe]\n",
        "\n",
        "# Define a Python function named append_value_node\n",
        "def append_value_node(state):\n",
        "    print(\"---Append Value Node---\")\n",
        "    # The custom reducer handles the None case for us, so we can just return the list to append\n",
        "    return {\"foo\": [10]}"
      ],
      "id": "fcbb7cfc",
      "execution_count": 38,
      "outputs": []
    },
    {
      "cell_type": "code",
      "metadata": {
        "colab": {
          "base_uri": "https://localhost:8080/",
          "height": 286
        },
        "id": "8ae9a1e8",
        "outputId": "45cfc835-f354-4200-b80b-a307b42937cb"
      },
      "source": [
        "builder = StateGraph(SafeState)\n",
        "\n",
        "builder.add_node(\"append_node\", append_value_node)\n",
        "\n",
        "builder.add_edge(START, \"append_node\")\n",
        "builder.add_edge(\"append_node\", END)\n",
        "\n",
        "graph = builder.compile()\n",
        "\n",
        "display(Image(graph.get_graph().draw_mermaid_png()))\n",
        "\n",
        "initial_state = {\"foo\": None}\n",
        "result = graph.invoke(initial_state)\n",
        "\n",
        "print(result)"
      ],
      "id": "8ae9a1e8",
      "execution_count": 39,
      "outputs": [
        {
          "output_type": "display_data",
          "data": {
            "image/png": "[encoded data removed]",
            "text/plain": [
              "<IPython.core.display.Image object>"
            ]
          },
          "metadata": {}
        },
        {
          "output_type": "stream",
          "name": "stdout",
          "text": [
            "---Append Value Node---\n",
            "{'foo': [10]}\n"
          ]
        }
      ]
    },
    {
      "cell_type": "markdown",
      "metadata": {
        "id": "84868d93"
      },
      "source": [
        "## Using `add messages` reducer\n",
        "\n",
        "Demonstrate the use of the built-in `add_messages` reducer for handling messages.\n"
      ],
      "id": "84868d93"
    },
    {
      "cell_type": "code",
      "metadata": {
        "colab": {
          "base_uri": "https://localhost:8080/",
          "height": 422
        },
        "id": "9325ddf1",
        "outputId": "809079ba-1021-4e1a-f891-7cf6f0669000"
      },
      "source": [
        "from typing_extensions import TypedDict\n",
        "from typing import Annotated\n",
        "from langgraph.graph.message import add_messages\n",
        "from langchain_core.messages import HumanMessage, AIMessage\n",
        "from langgraph.graph import StateGraph, START, END\n",
        "from IPython.display import Image, display\n",
        "\n",
        "class MessagesStateExample(TypedDict):\n",
        "    messages: Annotated[list, add_messages]\n",
        "\n",
        "# 3. Define a Python function named add_human_message_node\n",
        "def add_human_message_node(state):\n",
        "    print(\"---Adding Human Message---\")\n",
        "    return {\"messages\": [HumanMessage(content=\"Hello AI!\")]}\n",
        "\n",
        "# 4. Define a Python function named add_ai_message_node\n",
        "def add_ai_message_node(state):\n",
        "    print(\"---Adding AI Message---\")\n",
        "    return {\"messages\": [AIMessage(content=\"Hello Human!\")]}\n",
        "\n",
        "builder = StateGraph(MessagesStateExample)\n",
        "builder.add_node(\"human_node\", add_human_message_node)\n",
        "builder.add_node(\"ai_node\", add_ai_message_node)\n",
        "\n",
        "builder.add_edge(START, \"human_node\")\n",
        "builder.add_edge(\"human_node\", \"ai_node\")\n",
        "builder.add_edge(\"ai_node\", END)\n",
        "\n",
        "graph = builder.compile()\n",
        "\n",
        "display(Image(graph.get_graph().draw_mermaid_png()))\n",
        "\n",
        "initial_state = {\"messages\": []}\n",
        "result = graph.invoke(initial_state)\n",
        "\n",
        "print(result)"
      ],
      "id": "9325ddf1",
      "execution_count": 40,
      "outputs": [
        {
          "output_type": "display_data",
          "data": {
            "image/png": "[encoded data removed]",
            "text/plain": [
              "<IPython.core.display.Image object>"
            ]
          },
          "metadata": {}
        },
        {
          "output_type": "stream",
          "name": "stdout",
          "text": [
            "---Adding Human Message---\n",
            "---Adding AI Message---\n",
            "{'messages': [HumanMessage(content='Hello AI!', additional_kwargs={}, response_metadata={}, id='c96ab282-b54b-44dd-b102-b8ea347052ea'), AIMessage(content='Hello Human!', additional_kwargs={}, response_metadata={}, id='2a98706f-6cba-44ec-8de7-c40cd725909a')]}\n"
          ]
        }
      ]
    },
    {
      "cell_type": "markdown",
      "metadata": {
        "id": "32ada524"
      },
      "source": [
        "## Message re-writing with `add messages`\n",
        "\n",
        "Demonstrate how `add_messages` can re-write messages with the same ID.\n"
      ],
      "id": "32ada524"
    },
    {
      "cell_type": "code",
      "metadata": {
        "colab": {
          "base_uri": "https://localhost:8080/"
        },
        "id": "3615fdad",
        "outputId": "745667bd-c399-4e75-ff54-0bf0c9d8e5d0"
      },
      "source": [
        "from langchain_core.messages import AIMessage, HumanMessage\n",
        "from langgraph.graph.message import add_messages\n",
        "\n",
        "# Initial message list\n",
        "initial_messages = [\n",
        "    AIMessage(content=\"Hello!\", name=\"Bot\", id=\"msg1\"),\n",
        "    HumanMessage(content=\"Hi there!\", name=\"User\", id=\"msg2\"),\n",
        "    AIMessage(content=\"How can I help?\", name=\"Bot\", id=\"msg3\")\n",
        "]\n",
        "\n",
        "new_message_with_duplicate_id = HumanMessage(content=\"I have a new question.\", name=\"User\", id=\"msg2\")\n",
        "\n",
        "# Use the add_messages function, passing the initial list of messages as the first argument and the list with the duplicate ID message as the second argument.\n",
        "updated_messages = add_messages(initial_messages, [new_message_with_duplicate_id])\n",
        "\n",
        "print(updated_messages)"
      ],
      "id": "3615fdad",
      "execution_count": 41,
      "outputs": [
        {
          "output_type": "stream",
          "name": "stdout",
          "text": [
            "[AIMessage(content='Hello!', additional_kwargs={}, response_metadata={}, name='Bot', id='msg1'), HumanMessage(content='I have a new question.', additional_kwargs={}, response_metadata={}, name='User', id='msg2'), AIMessage(content='How can I help?', additional_kwargs={}, response_metadata={}, name='Bot', id='msg3')]\n"
          ]
        }
      ]
    },
    {
      "cell_type": "markdown",
      "metadata": {
        "id": "d17a5e5a"
      },
      "source": [
        "## Message removal with `add messages`\n",
        "\n",
        "Demonstrate how to remove messages using `RemoveMessage` with the `add_messages` reducer.\n"
      ],
      "id": "d17a5e5a"
    },
    {
      "cell_type": "code",
      "metadata": {
        "colab": {
          "base_uri": "https://localhost:8080/"
        },
        "id": "e6d4ce7d",
        "outputId": "7ea43204-0365-4b33-b55b-86eaeb97588d"
      },
      "source": [
        "from langchain_core.messages import AIMessage, HumanMessage, RemoveMessage\n",
        "from langgraph.graph.message import add_messages\n",
        "\n",
        "messages_to_remove_from = [\n",
        "    AIMessage(content=\"First message.\", name=\"Bot\", id=\"msg_a\"),\n",
        "    HumanMessage(content=\"Second message.\", name=\"User\", id=\"msg_b\"),\n",
        "    AIMessage(content=\"Third message.\", name=\"Bot\", id=\"msg_c\"),\n",
        "    HumanMessage(content=\"Fourth message.\", name=\"User\", id=\"msg_d\"),\n",
        "]\n",
        "\n",
        "# 4. Create a list of RemoveMessage objects\n",
        "ids_to_remove = [\"msg_a\", \"msg_c\"]\n",
        "remove_list = [RemoveMessage(id=msg_id) for msg_id in ids_to_remove]\n",
        "print(f\"Messages to remove: {remove_list}\")\n",
        "\n",
        "# 5. Use the add_messages function, passing the original list of messages as the first argument and the list of RemoveMessage objects as the second argument.\n",
        "messages_after_removal = add_messages(messages_to_remove_from, remove_list)\n",
        "\n",
        "print(f\"Messages after removal: {messages_after_removal}\")"
      ],
      "id": "e6d4ce7d",
      "execution_count": 42,
      "outputs": [
        {
          "output_type": "stream",
          "name": "stdout",
          "text": [
            "Messages to remove: [RemoveMessage(content='', additional_kwargs={}, response_metadata={}, id='msg_a'), RemoveMessage(content='', additional_kwargs={}, response_metadata={}, id='msg_c')]\n",
            "Messages after removal: [HumanMessage(content='Second message.', additional_kwargs={}, response_metadata={}, name='User', id='msg_b'), HumanMessage(content='Fourth message.', additional_kwargs={}, response_metadata={}, name='User', id='msg_d')]\n"
          ]
        }
      ]
    }
  ],
  "metadata": {
    "kernelspec": {
      "display_name": "Python 3 (ipykernel)",
      "language": "python",
      "name": "python3"
    },
    "language_info": {
      "codemirror_mode": {
        "name": "ipython",
        "version": 3
      },
      "file_extension": ".py",
      "mimetype": "text/x-python",
      "name": "python",
      "nbconvert_exporter": "python",
      "pygments_lexer": "ipython3",
      "version": "3.12.1"
    },
    "colab": {
      "provenance": []
    }
  },
  "nbformat": 4,
  "nbformat_minor": 5
}